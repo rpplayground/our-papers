{
 "metadata": {
  "name": "genBNtable"
 },
 "nbformat": 3,
 "nbformat_minor": 0,
 "worksheets": [
  {
   "cells": [
    {
     "cell_type": "code",
     "collapsed": false,
     "input": [
      "from genBNtable import *\n",
      "import math"
     ],
     "language": "python",
     "metadata": {},
     "outputs": [],
     "prompt_number": 56
    },
    {
     "cell_type": "heading",
     "level": 1,
     "metadata": {},
     "source": [
      "Build database according to specified parameters"
     ]
    },
    {
     "cell_type": "code",
     "collapsed": false,
     "input": [
      "import random as RND\n",
      "import math\n",
      "\n",
      "def setUp(totalPerson=10):\n",
      "        constants = ['sam']\n",
      "        digits = int(math.ceil(math.log(totalPerson+.01,10)))\n",
      "        formatString = 'p{0:0'+str(digits)+'}'\n",
      "        for i in range(totalPerson - len(constants)):\n",
      "            constants.append(formatString.format(i))\n",
      "\n",
      "        # Ranges for functors\n",
      "        booleanRange = ['T', 'F']\n",
      "        genderRange = ['M', 'W']\n",
      "        functorRangeList = [('F', booleanRange), ('g', genderRange), ('cd', booleanRange)]\n",
      "\n",
      "        # Build tables\n",
      "        pM = .51\n",
      "        pCD_M = .6\n",
      "        pCD_W = .8\n",
      "        pMMT = .63\n",
      "        pMWT = .55\n",
      "        pWWT = .55\n",
      "        pWMT = .45\n",
      "\n",
      "        gender = {}\n",
      "        nodeList = []\n",
      "        for p in constants:\n",
      "            if RND.random() <= pM:\n",
      "                gender[p] = 'M'\n",
      "                nodeList.append(Node('g', [p], 'M'))\n",
      "                if RND.random() <= pCD_M:\n",
      "                    nodeList.append(Node('cd', [p], 'T'))\n",
      "                else:\n",
      "                    nodeList.append(Node('cd', [p], 'F'))\n",
      "            else:\n",
      "                gender[p] = 'W'\n",
      "                nodeList.append(Node('g', [p], 'W'))\n",
      "                if RND.random() <= pCD_W:\n",
      "                    nodeList.append(Node('cd', [p], 'T'))\n",
      "                else:\n",
      "                    nodeList.append(Node('cd', [p], 'F'))\n",
      "\n",
      "        for p in constants:\n",
      "            for pf in constants:\n",
      "                if gender[p] == 'M':\n",
      "                    if gender[pf] == 'M':\n",
      "                        if RND.random() <= pMMT:\n",
      "                            fv = 'T'\n",
      "                        else:\n",
      "                            fv = 'F'\n",
      "                    else:\n",
      "                        if RND.random() <= pMWT:\n",
      "                            fv = 'T'\n",
      "                        else:\n",
      "                            fv = 'F'\n",
      "                else:\n",
      "                    if gender[pf] == 'M':\n",
      "                        if RND.random() <= pWMT:\n",
      "                            fv = 'T'\n",
      "                        else:\n",
      "                            fv = 'F'\n",
      "                    else:\n",
      "                        if RND.random() <= pWWT:\n",
      "                            fv = 'T'\n",
      "                        else:\n",
      "                            fv = 'F'\n",
      "                nodeList.append(Node('F', [p, pf], fv))\n",
      "\n",
      "        return Database(nodeList, functorRangeList, constants)"
     ],
     "language": "python",
     "metadata": {},
     "outputs": [],
     "prompt_number": 2
    },
    {
     "cell_type": "code",
     "collapsed": false,
     "input": [
      "db10 = setUp()"
     ],
     "language": "python",
     "metadata": {},
     "outputs": [],
     "prompt_number": 3
    },
    {
     "cell_type": "code",
     "collapsed": false,
     "input": [
      "db50 = setUp(50)"
     ],
     "language": "python",
     "metadata": {},
     "outputs": [],
     "prompt_number": 4
    },
    {
     "cell_type": "code",
     "collapsed": false,
     "input": [
      "db100 = setUp(100)"
     ],
     "language": "python",
     "metadata": {},
     "outputs": [],
     "prompt_number": 5
    },
    {
     "cell_type": "heading",
     "level": 1,
     "metadata": {},
     "source": [
      "Simple Bayes Net"
     ]
    },
    {
     "cell_type": "code",
     "collapsed": false,
     "input": [
      "bnSimp = BayesNet()"
     ],
     "language": "python",
     "metadata": {},
     "outputs": [],
     "prompt_number": 6
    },
    {
     "cell_type": "code",
     "collapsed": false,
     "input": [
      "gX = Node('g', ['X'])\n",
      "bnSimp.append(NetNode(gX,[]))"
     ],
     "language": "python",
     "metadata": {},
     "outputs": [],
     "prompt_number": 7
    },
    {
     "cell_type": "code",
     "collapsed": false,
     "input": [
      "bnSimp.genThetas(db10)"
     ],
     "language": "python",
     "metadata": {},
     "outputs": [
      {
       "output_type": "pyout",
       "prompt_number": 8,
       "text": [
        "{P(g(X)=M): 0.6, P(g(X)=W): 0.4}"
       ]
      }
     ],
     "prompt_number": 8
    },
    {
     "cell_type": "code",
     "collapsed": false,
     "input": [
      "bnSimp.genThetas(db100)"
     ],
     "language": "python",
     "metadata": {},
     "outputs": [
      {
       "output_type": "pyout",
       "prompt_number": 9,
       "text": [
        "{P(g(X)=M): 0.6, P(g(X)=W): 0.4}"
       ]
      }
     ],
     "prompt_number": 9
    },
    {
     "cell_type": "heading",
     "level": 1,
     "metadata": {},
     "source": [
      "Example Bayes Net from paper"
     ]
    },
    {
     "cell_type": "code",
     "collapsed": false,
     "input": [
      "bnEx = BayesNet()"
     ],
     "language": "python",
     "metadata": {},
     "outputs": [],
     "prompt_number": 10
    },
    {
     "cell_type": "code",
     "collapsed": false,
     "input": [
      "gX = Node('g',['X'])"
     ],
     "language": "python",
     "metadata": {},
     "outputs": [],
     "prompt_number": 11
    },
    {
     "cell_type": "code",
     "collapsed": false,
     "input": [
      "gY = Node('g', ['Y'])"
     ],
     "language": "python",
     "metadata": {},
     "outputs": [],
     "prompt_number": 12
    },
    {
     "cell_type": "code",
     "collapsed": false,
     "input": [
      "fXY = Node('F',['X','Y'])"
     ],
     "language": "python",
     "metadata": {},
     "outputs": [],
     "prompt_number": 13
    },
    {
     "cell_type": "code",
     "collapsed": false,
     "input": [
      "cdX = Node('cd',['X'])"
     ],
     "language": "python",
     "metadata": {},
     "outputs": [],
     "prompt_number": 14
    },
    {
     "cell_type": "code",
     "collapsed": false,
     "input": [
      "nfXY = NetNode(fXY,[])"
     ],
     "language": "python",
     "metadata": {},
     "outputs": [],
     "prompt_number": 15
    },
    {
     "cell_type": "code",
     "collapsed": false,
     "input": [
      "ngY = NetNode(gY, [])"
     ],
     "language": "python",
     "metadata": {},
     "outputs": [],
     "prompt_number": 16
    },
    {
     "cell_type": "code",
     "collapsed": false,
     "input": [
      "ngX = NetNode(gX, [nfXY, ngY])"
     ],
     "language": "python",
     "metadata": {},
     "outputs": [],
     "prompt_number": 17
    },
    {
     "cell_type": "code",
     "collapsed": false,
     "input": [
      "ncdX = NetNode(cdX, [ngX])"
     ],
     "language": "python",
     "metadata": {},
     "outputs": [],
     "prompt_number": 18
    },
    {
     "cell_type": "code",
     "collapsed": false,
     "input": [
      "bnEx.append(ngY)"
     ],
     "language": "python",
     "metadata": {},
     "outputs": [],
     "prompt_number": 19
    },
    {
     "cell_type": "code",
     "collapsed": false,
     "input": [
      "bnEx.append(nfXY)"
     ],
     "language": "python",
     "metadata": {},
     "outputs": [],
     "prompt_number": 20
    },
    {
     "cell_type": "code",
     "collapsed": false,
     "input": [
      "bnEx.append(ngX)"
     ],
     "language": "python",
     "metadata": {},
     "outputs": [],
     "prompt_number": 21
    },
    {
     "cell_type": "code",
     "collapsed": false,
     "input": [
      "bnEx.append(ncdX)"
     ],
     "language": "python",
     "metadata": {},
     "outputs": [],
     "prompt_number": 22
    },
    {
     "cell_type": "code",
     "collapsed": false,
     "input": [
      "bnEx.genThetas(db10)"
     ],
     "language": "python",
     "metadata": {},
     "outputs": [
      {
       "output_type": "pyout",
       "prompt_number": 23,
       "text": [
        "{P(F(X,Y)=F): 0.41,\n",
        " P(cd(X)=F|g(X)=M): 0.6666666666666666,\n",
        " P(g(Y)=M): 0.6,\n",
        " P(F(X,Y)=T): 0.59,\n",
        " P(g(Y)=W): 0.4,\n",
        " P(cd(X)=F|g(X)=W): 0.5,\n",
        " P(g(X)=M|F(X,Y)=F,g(Y)=M): 0.5,\n",
        " P(cd(X)=T|g(X)=M): 0.3333333333333333,\n",
        " P(g(X)=M|F(X,Y)=F,g(Y)=W): 0.5789473684210527,\n",
        " P(g(X)=M|g(Y)=M,F(X,Y)=T): 0.6578947368421053,\n",
        " P(g(X)=W|F(X,Y)=F,g(Y)=M): 0.5,\n",
        " P(g(X)=W|F(X,Y)=F,g(Y)=W): 0.42105263157894735,\n",
        " P(g(X)=M|F(X,Y)=T,g(Y)=W): 0.6190476190476191,\n",
        " P(cd(X)=T|g(X)=W): 0.5,\n",
        " P(g(X)=W|g(Y)=M,F(X,Y)=T): 0.34210526315789475,\n",
        " P(g(X)=W|F(X,Y)=T,g(Y)=W): 0.38095238095238093}"
       ]
      }
     ],
     "prompt_number": 23
    },
    {
     "cell_type": "code",
     "collapsed": false,
     "input": [
      "th50 = bnEx.genThetas(db50)\n",
      "th50"
     ],
     "language": "python",
     "metadata": {},
     "outputs": [
      {
       "output_type": "pyout",
       "prompt_number": 24,
       "text": [
        "{P(F(X,Y)=F): 0.41,\n",
        " P(cd(X)=F|g(X)=M): 0.6666666666666666,\n",
        " P(g(Y)=M): 0.6,\n",
        " P(F(X,Y)=T): 0.59,\n",
        " P(g(Y)=W): 0.4,\n",
        " P(cd(X)=F|g(X)=W): 0.5,\n",
        " P(g(X)=M|F(X,Y)=F,g(Y)=M): 0.5,\n",
        " P(cd(X)=T|g(X)=M): 0.3333333333333333,\n",
        " P(g(X)=M|F(X,Y)=F,g(Y)=W): 0.5789473684210527,\n",
        " P(g(X)=M|g(Y)=M,F(X,Y)=T): 0.6578947368421053,\n",
        " P(g(X)=W|F(X,Y)=F,g(Y)=M): 0.5,\n",
        " P(g(X)=W|F(X,Y)=F,g(Y)=W): 0.42105263157894735,\n",
        " P(g(X)=M|F(X,Y)=T,g(Y)=W): 0.6190476190476191,\n",
        " P(cd(X)=T|g(X)=W): 0.5,\n",
        " P(g(X)=W|g(Y)=M,F(X,Y)=T): 0.34210526315789475,\n",
        " P(g(X)=W|F(X,Y)=T,g(Y)=W): 0.38095238095238093}"
       ]
      }
     ],
     "prompt_number": 24
    },
    {
     "cell_type": "heading",
     "level": 1,
     "metadata": {},
     "source": [
      "Exploring values in sample databases"
     ]
    },
    {
     "cell_type": "code",
     "collapsed": false,
     "input": [
      "[n for n in db10.attributes if n == Node('F', ['sam', Node.WILD], Node.WILD)]"
     ],
     "language": "python",
     "metadata": {},
     "outputs": [
      {
       "output_type": "pyout",
       "prompt_number": 25,
       "text": [
        "[F(sam,sam)=T,\n",
        " F(sam,p00)=T,\n",
        " F(sam,p01)=F,\n",
        " F(sam,p02)=F,\n",
        " F(sam,p03)=F,\n",
        " F(sam,p04)=F,\n",
        " F(sam,p05)=T,\n",
        " F(sam,p06)=F,\n",
        " F(sam,p07)=F,\n",
        " F(sam,p08)=T]"
       ]
      }
     ],
     "prompt_number": 25
    },
    {
     "cell_type": "code",
     "collapsed": false,
     "input": [
      "db10.constants"
     ],
     "language": "python",
     "metadata": {},
     "outputs": [
      {
       "output_type": "pyout",
       "prompt_number": 26,
       "text": [
        "['sam', 'p00', 'p01', 'p02', 'p03', 'p04', 'p05', 'p06', 'p07', 'p08']"
       ]
      }
     ],
     "prompt_number": 26
    },
    {
     "cell_type": "code",
     "collapsed": false,
     "input": [
      "len(db100.attributes)"
     ],
     "language": "python",
     "metadata": {},
     "outputs": [
      {
       "output_type": "pyout",
       "prompt_number": 27,
       "text": [
        "10200"
       ]
      }
     ],
     "prompt_number": 27
    },
    {
     "cell_type": "code",
     "collapsed": false,
     "input": [
      "len(db10.attributes)"
     ],
     "language": "python",
     "metadata": {},
     "outputs": [
      {
       "output_type": "pyout",
       "prompt_number": 28,
       "text": [
        "120"
       ]
      }
     ],
     "prompt_number": 28
    },
    {
     "cell_type": "code",
     "collapsed": false,
     "input": [
      "len(db100.domain([Node('g',['X'],'W')]))"
     ],
     "language": "python",
     "metadata": {},
     "outputs": [
      {
       "output_type": "pyout",
       "prompt_number": 29,
       "text": [
        "100"
       ]
      }
     ],
     "prompt_number": 29
    },
    {
     "cell_type": "raw",
     "metadata": {},
     "source": [
      "len([n for n in db100.attributes if n == Node('g',[Node.WILD],'M')])"
     ]
    },
    {
     "cell_type": "raw",
     "metadata": {},
     "source": [
      "len([n for n in db100.attributes if n == Node('g',[Node.WILD],'W')])"
     ]
    },
    {
     "cell_type": "code",
     "collapsed": false,
     "input": [
      "db100.nd([Node('g', ['X'], 'M'),Node('g',['Y'],'W'),Node('F',['X','Y'],'T')])"
     ],
     "language": "python",
     "metadata": {},
     "outputs": [
      {
       "output_type": "pyout",
       "prompt_number": 30,
       "text": [
        "1383"
       ]
      }
     ],
     "prompt_number": 30
    },
    {
     "cell_type": "code",
     "collapsed": false,
     "input": [
      "psrt=set(n.varTuple[0] for n in db100.attributes if n == Node('F', [Node.WILD, 'sam'], 'T'))"
     ],
     "language": "python",
     "metadata": {},
     "outputs": [],
     "prompt_number": 31
    },
    {
     "cell_type": "code",
     "collapsed": false,
     "input": [
      "len(psrt)"
     ],
     "language": "python",
     "metadata": {},
     "outputs": [
      {
       "output_type": "pyout",
       "prompt_number": 32,
       "text": [
        "54"
       ]
      }
     ],
     "prompt_number": 32
    },
    {
     "cell_type": "code",
     "collapsed": false,
     "input": [
      "'p001' in psrt"
     ],
     "language": "python",
     "metadata": {},
     "outputs": [
      {
       "output_type": "pyout",
       "prompt_number": 33,
       "text": [
        "True"
       ]
      }
     ],
     "prompt_number": 33
    },
    {
     "cell_type": "code",
     "collapsed": false,
     "input": [
      "sorted(list(psrt))[:10]"
     ],
     "language": "python",
     "metadata": {},
     "outputs": [
      {
       "output_type": "pyout",
       "prompt_number": 34,
       "text": [
        "['p000',\n",
        " 'p001',\n",
        " 'p004',\n",
        " 'p007',\n",
        " 'p008',\n",
        " 'p009',\n",
        " 'p011',\n",
        " 'p012',\n",
        " 'p013',\n",
        " 'p015']"
       ]
      }
     ],
     "prompt_number": 34
    },
    {
     "cell_type": "heading",
     "level": 1,
     "metadata": {},
     "source": [
      "Recreating computations"
     ]
    },
    {
     "cell_type": "code",
     "collapsed": false,
     "input": [
      "mbW = MarkovBlanket(Node('g',['X']),\n",
      "                   {CPFormula(Node('g',['X'],'W'),{Node('g',['Y'],'W'),Node('F',['X','Y'],'T')}),\n",
      "                    CPFormula(Node('cd',['X'],'T'),{Node('g',['X'],'W')})})"
     ],
     "language": "python",
     "metadata": {},
     "outputs": [],
     "prompt_number": 52
    },
    {
     "cell_type": "code",
     "collapsed": false,
     "input": [
      "bnEx.isCompatibleMB(mbW)\n",
      "PW = db50.computeGibbs(th50, mbW)\n",
      "PW"
     ],
     "language": "python",
     "metadata": {},
     "outputs": [
      {
       "output_type": "pyout",
       "prompt_number": 54,
       "text": [
        "0.19047619047619047"
       ]
      }
     ],
     "prompt_number": 54
    },
    {
     "cell_type": "code",
     "collapsed": false,
     "input": [
      "th50[CPFormula(Node('g',['X'],'W'),{Node('g',['Y'],'W'),Node('F',['X','Y'],'T')})]"
     ],
     "language": "python",
     "metadata": {},
     "outputs": [
      {
       "output_type": "pyout",
       "prompt_number": 37,
       "text": [
        "0.38095238095238093"
       ]
      }
     ],
     "prompt_number": 37
    },
    {
     "cell_type": "code",
     "collapsed": false,
     "input": [
      "th50[CPFormula(Node('cd',['X'],'T'),{Node('g',['X'],'W')})]"
     ],
     "language": "python",
     "metadata": {},
     "outputs": [
      {
       "output_type": "pyout",
       "prompt_number": 38,
       "text": [
        "0.5"
       ]
      }
     ],
     "prompt_number": 38
    },
    {
     "cell_type": "code",
     "collapsed": false,
     "input": [
      "_*__"
     ],
     "language": "python",
     "metadata": {},
     "outputs": [
      {
       "output_type": "pyout",
       "prompt_number": 44,
       "text": [
        "0.19047619047619047"
       ]
      }
     ],
     "prompt_number": 44
    },
    {
     "cell_type": "code",
     "collapsed": false,
     "input": [
      "mbM = MarkovBlanket(Node('g',['X']),\n",
      "                   {CPFormula(Node('g',['X'],'M'),{Node('g',['Y'],'W'),Node('F',['X','Y'],'T')}),\n",
      "                    CPFormula(Node('cd',['X'],'T'),{Node('g',['X'],'M')})})"
     ],
     "language": "python",
     "metadata": {},
     "outputs": [],
     "prompt_number": 49
    },
    {
     "cell_type": "code",
     "collapsed": false,
     "input": [
      "bnEx.isCompatibleMB(mbM)\n",
      "PM = db50.computeGibbs(th50,mbM)\n",
      "PM"
     ],
     "language": "python",
     "metadata": {},
     "outputs": [
      {
       "output_type": "pyout",
       "prompt_number": 55,
       "text": [
        "0.20634920634920634"
       ]
      }
     ],
     "prompt_number": 55
    },
    {
     "cell_type": "code",
     "collapsed": false,
     "input": [
      "math.log(PW/PM)"
     ],
     "language": "python",
     "metadata": {},
     "outputs": [
      {
       "output_type": "pyout",
       "prompt_number": 57,
       "text": [
        "-0.08004270767353637"
       ]
      }
     ],
     "prompt_number": 57
    },
    {
     "cell_type": "code",
     "collapsed": false,
     "input": [],
     "language": "python",
     "metadata": {},
     "outputs": []
    }
   ],
   "metadata": {}
  }
 ]
}